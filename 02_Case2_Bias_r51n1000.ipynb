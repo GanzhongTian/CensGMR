{
 "cells": [
  {
   "cell_type": "code",
   "execution_count": 1,
   "id": "561527b1-5f12-4fd5-8a3f-738726c6ce40",
   "metadata": {},
   "outputs": [
    {
     "name": "stderr",
     "output_type": "stream",
     "text": [
      "── \u001b[1mAttaching packages\u001b[22m ─────────────────────────────────────── tidyverse 1.3.1 ──\n",
      "\n",
      "\u001b[32m✔\u001b[39m \u001b[34mggplot2\u001b[39m 3.3.5     \u001b[32m✔\u001b[39m \u001b[34mpurrr  \u001b[39m 0.3.4\n",
      "\u001b[32m✔\u001b[39m \u001b[34mtibble \u001b[39m 3.1.4     \u001b[32m✔\u001b[39m \u001b[34mdplyr  \u001b[39m 1.0.7\n",
      "\u001b[32m✔\u001b[39m \u001b[34mtidyr  \u001b[39m 1.1.3     \u001b[32m✔\u001b[39m \u001b[34mstringr\u001b[39m 1.4.0\n",
      "\u001b[32m✔\u001b[39m \u001b[34mreadr  \u001b[39m 2.0.1     \u001b[32m✔\u001b[39m \u001b[34mforcats\u001b[39m 0.5.1\n",
      "\n",
      "── \u001b[1mConflicts\u001b[22m ────────────────────────────────────────── tidyverse_conflicts() ──\n",
      "\u001b[31m✖\u001b[39m \u001b[34mdplyr\u001b[39m::\u001b[32mfilter()\u001b[39m masks \u001b[34mstats\u001b[39m::filter()\n",
      "\u001b[31m✖\u001b[39m \u001b[34mdplyr\u001b[39m::\u001b[32mlag()\u001b[39m    masks \u001b[34mstats\u001b[39m::lag()\n",
      "\n",
      "Loading required package: mvtnorm\n",
      "\n",
      "Loading required package: foreach\n",
      "\n",
      "\n",
      "Attaching package: ‘foreach’\n",
      "\n",
      "\n",
      "The following objects are masked from ‘package:purrr’:\n",
      "\n",
      "    accumulate, when\n",
      "\n",
      "\n",
      "Loading required package: iterators\n",
      "\n",
      "Loading required package: parallel\n",
      "\n"
     ]
    }
   ],
   "source": [
    "# Include necessary packages\n",
    "library(tidyverse)\n",
    "\n",
    "# library(mvtnorm)\n",
    "library(condMVNorm)\n",
    "library(MomTrunc)\n",
    "# library(truncnorm)\n",
    "# library(tmvtnorm)\n",
    "# library(TTmoment)\n",
    "\n",
    "\n",
    "library(doParallel)\n",
    "# library(parallel)\n",
    "\n",
    "\n",
    "\n",
    "path=getwd()\n",
    "source(paste0(substring(path, \n",
    "                        1, \n",
    "                        tail(unlist(gregexpr(pattern ='/',path)),n=1)),\n",
    "              \"MixCenMVReg_EM.R\"))\n",
    "\n",
    "source(paste0(substring(path, \n",
    "                        1, \n",
    "                        tail(unlist(gregexpr(pattern ='/',path)),n=1)),\n",
    "              \"Util_Func.R\"))"
   ]
  },
  {
   "cell_type": "code",
   "execution_count": 2,
   "id": "de26bc74-25a3-46fc-a41c-555d5f62ac47",
   "metadata": {},
   "outputs": [],
   "source": [
    "load('true_pars.RData')\n",
    "load('data_cens_case2_r51n1000.RData')"
   ]
  },
  {
   "cell_type": "code",
   "execution_count": 3,
   "id": "dfb07322-d421-4ce3-a2d2-e9af10ec7081",
   "metadata": {},
   "outputs": [
    {
     "data": {
      "text/plain": [
       "Time difference of 38.96994 mins"
      ]
     },
     "metadata": {},
     "output_type": "display_data"
    }
   ],
   "source": [
    "start=Sys.time()\n",
    "\n",
    "no_cores=detectCores(logical = TRUE)  \n",
    "# returns the number of available hardware threads, \n",
    "# and if it is FALSE, returns the number of physical cores\n",
    "\n",
    "cl=makeCluster(10)  \n",
    "registerDoParallel(cl)  \n",
    "\n",
    "replicate=length(data_cens_case2)\n",
    "\n",
    "\n",
    "case2_cens_bias=foreach(i=1:replicate, .errorhandling=\"pass\") %dopar% {\n",
    "  \n",
    "    library(condMVNorm)\n",
    "    library(MomTrunc)\n",
    "    MixCenMVReg_EM(Y=data_cens_case2[[i]]$Y,\n",
    "                   X=data_cens_case2[[i]]$X,\n",
    "                   C=data_cens_case2[[i]]$censorID, \n",
    "                   G=3, pie_hat=true_pars$PIE, beta_hat=true_pars$BETA, sigma_hat=true_pars$SIGMA,\n",
    "                   Max.iter=1000, diff.tol=1e-3, print=FALSE, calc_cov=FALSE)\n",
    "}\n",
    "stopCluster(cl)\n",
    "# save(model1.1,file = \"model1.1.RData\")\n",
    "Sys.time()-start\n",
    "\n",
    "save(case2_cens_bias,file='case2_cens_bias_r51n1000.RData')"
   ]
  },
  {
   "cell_type": "code",
   "execution_count": 4,
   "id": "d51c4439-bcda-4da5-b896-55eb0a61153c",
   "metadata": {},
   "outputs": [
    {
     "data": {
      "text/plain": [
       "Time difference of 38.58339 mins"
      ]
     },
     "metadata": {},
     "output_type": "display_data"
    }
   ],
   "source": [
    "start=Sys.time()\n",
    "\n",
    "no_cores=detectCores(logical = TRUE)  \n",
    "# returns the number of available hardware threads, \n",
    "# and if it is FALSE, returns the number of physical cores\n",
    "\n",
    "cl=makeCluster(10)  \n",
    "registerDoParallel(cl)  \n",
    "\n",
    "replicate=length(data_cens_case2)\n",
    "\n",
    "\n",
    "case2_unce_bias=foreach(i=1:replicate, .errorhandling=\"pass\") %dopar% {\n",
    "  \n",
    "    library(condMVNorm)\n",
    "    library(MomTrunc)\n",
    "    MixCenMVReg_EM(Y=data_cens_case2[[i]]$Y,\n",
    "                   X=data_cens_case2[[i]]$X,\n",
    "                   C=0*data_cens_case2[[i]]$censorID, \n",
    "                   G=3, pie_hat=true_pars$PIE, beta_hat=true_pars$BETA, sigma_hat=true_pars$SIGMA,\n",
    "                   Max.iter=1000, diff.tol=1e-3, print=FALSE, calc_cov=FALSE)\n",
    "}\n",
    "stopCluster(cl)\n",
    "# save(model1.1,file = \"model1.1.RData\")\n",
    "Sys.time()-start\n",
    "\n",
    "save(case2_unce_bias,file='case2_unce_bias_r51n1000.RData')"
   ]
  },
  {
   "cell_type": "code",
   "execution_count": 5,
   "id": "37b98116-5fcc-46c8-856f-a900b2a865cf",
   "metadata": {},
   "outputs": [
    {
     "data": {
      "text/plain": [
       "Time difference of 3.318597 mins"
      ]
     },
     "metadata": {},
     "output_type": "display_data"
    }
   ],
   "source": [
    "start=Sys.time()\n",
    "\n",
    "no_cores=detectCores(logical = TRUE)  \n",
    "# returns the number of available hardware threads, \n",
    "# and if it is FALSE, returns the number of physical cores\n",
    "\n",
    "cl=makeCluster(10)  \n",
    "registerDoParallel(cl)  \n",
    "\n",
    "replicate=length(data_cens_case2)\n",
    "\n",
    "\n",
    "case2_dltc_bias=foreach(i=1:replicate, .errorhandling=\"pass\") %dopar% {\n",
    "  \n",
    "    library(condMVNorm)\n",
    "    library(MomTrunc)\n",
    "    nocensor=(data_cens_case2[[i]]$censorID[,1]==0 & data_cens_case2[[i]]$censorID[,2]==0)\n",
    "    \n",
    "    MixCenMVReg_EM(Y=data_cens_case2[[i]]$Y[nocensor,],\n",
    "                   X=data_cens_case2[[i]]$X[nocensor,],\n",
    "                   C=data_cens_case2[[i]]$censorID[nocensor,], \n",
    "                   G=3, pie_hat=true_pars$PIE, beta_hat=true_pars$BETA, sigma_hat=true_pars$SIGMA,\n",
    "                   Max.iter=1000, diff.tol=1e-3, print=FALSE, calc_cov=FALSE)\n",
    "}\n",
    "stopCluster(cl)\n",
    "# save(model1.1,file = \"model1.1.RData\")\n",
    "Sys.time()-start\n",
    "\n",
    "save(case2_dltc_bias,file='case2_dltc_bias_r51n1000.RData')"
   ]
  }
 ],
 "metadata": {
  "kernelspec": {
   "display_name": "Python 3 (ipykernel)",
   "language": "python",
   "name": "python3"
  },
  "language_info": {
   "codemirror_mode": {
    "name": "ipython",
    "version": 3
   },
   "file_extension": ".py",
   "mimetype": "text/x-python",
   "name": "python",
   "nbconvert_exporter": "python",
   "pygments_lexer": "ipython3",
   "version": "3.8.2"
  }
 },
 "nbformat": 4,
 "nbformat_minor": 5
}
