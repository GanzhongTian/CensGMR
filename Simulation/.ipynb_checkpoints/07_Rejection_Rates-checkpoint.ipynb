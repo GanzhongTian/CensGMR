{
 "cells": [
  {
   "cell_type": "markdown",
   "id": "18f38c81-ad11-44be-a38d-57fb17f463e9",
   "metadata": {},
   "source": [
    "# n=1000"
   ]
  },
  {
   "cell_type": "code",
   "execution_count": 1,
   "id": "4c80d4e2-b287-4dd3-b7dc-d6fc565b0a55",
   "metadata": {},
   "outputs": [
    {
     "data": {
      "text/html": [
       "<style>\n",
       ".dl-inline {width: auto; margin:0; padding: 0}\n",
       ".dl-inline>dt, .dl-inline>dd {float: none; width: auto; display: inline-block}\n",
       ".dl-inline>dt::after {content: \":\\0020\"; padding-right: .5ex}\n",
       ".dl-inline>dt:not(:first-of-type) {padding-left: .5ex}\n",
       "</style><dl class=dl-inline><dt>Y1_X0_1</dt><dd>0.046</dd><dt>Y1_X1_1</dt><dd>0.072</dd><dt>Y2_X0_1</dt><dd>0.066</dd><dt>Y2_X1_1</dt><dd>0.064</dd><dt>Y1_X0_2</dt><dd>0.07</dd><dt>Y1_X1_2</dt><dd>0.042</dd><dt>Y2_X0_2</dt><dd>0.048</dd><dt>Y2_X1_2</dt><dd>0.044</dd><dt>Y1_X0_3</dt><dd>0.036</dd><dt>Y1_X1_3</dt><dd>0.054</dd><dt>Y2_X0_3</dt><dd>0.074</dd><dt>Y2_X1_3</dt><dd>0.066</dd></dl>\n"
      ],
      "text/latex": [
       "\\begin{description*}\n",
       "\\item[Y1\\textbackslash{}\\_X0\\textbackslash{}\\_1] 0.046\n",
       "\\item[Y1\\textbackslash{}\\_X1\\textbackslash{}\\_1] 0.072\n",
       "\\item[Y2\\textbackslash{}\\_X0\\textbackslash{}\\_1] 0.066\n",
       "\\item[Y2\\textbackslash{}\\_X1\\textbackslash{}\\_1] 0.064\n",
       "\\item[Y1\\textbackslash{}\\_X0\\textbackslash{}\\_2] 0.07\n",
       "\\item[Y1\\textbackslash{}\\_X1\\textbackslash{}\\_2] 0.042\n",
       "\\item[Y2\\textbackslash{}\\_X0\\textbackslash{}\\_2] 0.048\n",
       "\\item[Y2\\textbackslash{}\\_X1\\textbackslash{}\\_2] 0.044\n",
       "\\item[Y1\\textbackslash{}\\_X0\\textbackslash{}\\_3] 0.036\n",
       "\\item[Y1\\textbackslash{}\\_X1\\textbackslash{}\\_3] 0.054\n",
       "\\item[Y2\\textbackslash{}\\_X0\\textbackslash{}\\_3] 0.074\n",
       "\\item[Y2\\textbackslash{}\\_X1\\textbackslash{}\\_3] 0.066\n",
       "\\end{description*}\n"
      ],
      "text/markdown": [
       "Y1_X0_1\n",
       ":   0.046Y1_X1_1\n",
       ":   0.072Y2_X0_1\n",
       ":   0.066Y2_X1_1\n",
       ":   0.064Y1_X0_2\n",
       ":   0.07Y1_X1_2\n",
       ":   0.042Y2_X0_2\n",
       ":   0.048Y2_X1_2\n",
       ":   0.044Y1_X0_3\n",
       ":   0.036Y1_X1_3\n",
       ":   0.054Y2_X0_3\n",
       ":   0.074Y2_X1_3\n",
       ":   0.066\n",
       "\n"
      ],
      "text/plain": [
       "Y1_X0_1 Y1_X1_1 Y2_X0_1 Y2_X1_1 Y1_X0_2 Y1_X1_2 Y2_X0_2 Y2_X1_2 Y1_X0_3 Y1_X1_3 \n",
       "  0.046   0.072   0.066   0.064   0.070   0.042   0.048   0.044   0.036   0.054 \n",
       "Y2_X0_3 Y2_X1_3 \n",
       "  0.074   0.066 "
      ]
     },
     "metadata": {},
     "output_type": "display_data"
    },
    {
     "data": {
      "text/html": [
       "0.0568333333333333"
      ],
      "text/latex": [
       "0.0568333333333333"
      ],
      "text/markdown": [
       "0.0568333333333333"
      ],
      "text/plain": [
       "[1] 0.05683333"
      ]
     },
     "metadata": {},
     "output_type": "display_data"
    }
   ],
   "source": [
    "load(\"case1_cens_RR_r500n1000.RData\")\n",
    "load(\"true_pars.RData\")\n",
    "\n",
    "data=case1_cens_RR\n",
    "\n",
    "truth=c(as.vector(true_pars$BETA[[1]]),as.vector(true_pars$BETA[[2]]),as.vector(true_pars$BETA[[3]]))\n",
    "\n",
    "REP=500\n",
    "\n",
    "Zscores=list()\n",
    "\n",
    "for(i in 1:REP){\n",
    "    beta_hat=c(as.vector(data[[i]]$Beta$beta1),as.vector(data[[i]]$Beta$beta2),as.vector(data[[i]]$Beta$beta3))\n",
    "    diff=beta_hat-truth\n",
    "    Zscores[[i]]=diff/diag(data[[i]]$Cov)^0.5\n",
    "}\n",
    "\n",
    "Zscores=do.call(rbind, Zscores)\n",
    "\n",
    "Reject=(abs(Zscores)>1.96)*1\n",
    "\n",
    "Reject_Rates=apply(Reject,2,mean)\n",
    "\n",
    "Reject_Rates\n",
    "\n",
    "mean(Reject_Rates)"
   ]
  },
  {
   "cell_type": "code",
   "execution_count": 2,
   "id": "2c814d12-4644-4d4e-89ee-4b30aae09e51",
   "metadata": {},
   "outputs": [
    {
     "data": {
      "text/html": [
       "<style>\n",
       ".dl-inline {width: auto; margin:0; padding: 0}\n",
       ".dl-inline>dt, .dl-inline>dd {float: none; width: auto; display: inline-block}\n",
       ".dl-inline>dt::after {content: \":\\0020\"; padding-right: .5ex}\n",
       ".dl-inline>dt:not(:first-of-type) {padding-left: .5ex}\n",
       "</style><dl class=dl-inline><dt>Y1_X0_1</dt><dd>0.16</dd><dt>Y1_X1_1</dt><dd>0.066</dd><dt>Y2_X0_1</dt><dd>0.066</dd><dt>Y2_X1_1</dt><dd>0.066</dd><dt>Y1_X0_2</dt><dd>0.06</dd><dt>Y1_X1_2</dt><dd>0.074</dd><dt>Y2_X0_2</dt><dd>0.068</dd><dt>Y2_X1_2</dt><dd>0.068</dd><dt>Y1_X0_3</dt><dd>0.046</dd><dt>Y1_X1_3</dt><dd>0.07</dd><dt>Y2_X0_3</dt><dd>0.094</dd><dt>Y2_X1_3</dt><dd>0.07</dd></dl>\n"
      ],
      "text/latex": [
       "\\begin{description*}\n",
       "\\item[Y1\\textbackslash{}\\_X0\\textbackslash{}\\_1] 0.16\n",
       "\\item[Y1\\textbackslash{}\\_X1\\textbackslash{}\\_1] 0.066\n",
       "\\item[Y2\\textbackslash{}\\_X0\\textbackslash{}\\_1] 0.066\n",
       "\\item[Y2\\textbackslash{}\\_X1\\textbackslash{}\\_1] 0.066\n",
       "\\item[Y1\\textbackslash{}\\_X0\\textbackslash{}\\_2] 0.06\n",
       "\\item[Y1\\textbackslash{}\\_X1\\textbackslash{}\\_2] 0.074\n",
       "\\item[Y2\\textbackslash{}\\_X0\\textbackslash{}\\_2] 0.068\n",
       "\\item[Y2\\textbackslash{}\\_X1\\textbackslash{}\\_2] 0.068\n",
       "\\item[Y1\\textbackslash{}\\_X0\\textbackslash{}\\_3] 0.046\n",
       "\\item[Y1\\textbackslash{}\\_X1\\textbackslash{}\\_3] 0.07\n",
       "\\item[Y2\\textbackslash{}\\_X0\\textbackslash{}\\_3] 0.094\n",
       "\\item[Y2\\textbackslash{}\\_X1\\textbackslash{}\\_3] 0.07\n",
       "\\end{description*}\n"
      ],
      "text/markdown": [
       "Y1_X0_1\n",
       ":   0.16Y1_X1_1\n",
       ":   0.066Y2_X0_1\n",
       ":   0.066Y2_X1_1\n",
       ":   0.066Y1_X0_2\n",
       ":   0.06Y1_X1_2\n",
       ":   0.074Y2_X0_2\n",
       ":   0.068Y2_X1_2\n",
       ":   0.068Y1_X0_3\n",
       ":   0.046Y1_X1_3\n",
       ":   0.07Y2_X0_3\n",
       ":   0.094Y2_X1_3\n",
       ":   0.07\n",
       "\n"
      ],
      "text/plain": [
       "Y1_X0_1 Y1_X1_1 Y2_X0_1 Y2_X1_1 Y1_X0_2 Y1_X1_2 Y2_X0_2 Y2_X1_2 Y1_X0_3 Y1_X1_3 \n",
       "  0.160   0.066   0.066   0.066   0.060   0.074   0.068   0.068   0.046   0.070 \n",
       "Y2_X0_3 Y2_X1_3 \n",
       "  0.094   0.070 "
      ]
     },
     "metadata": {},
     "output_type": "display_data"
    },
    {
     "data": {
      "text/html": [
       "0.0756666666666667"
      ],
      "text/latex": [
       "0.0756666666666667"
      ],
      "text/markdown": [
       "0.0756666666666667"
      ],
      "text/plain": [
       "[1] 0.07566667"
      ]
     },
     "metadata": {},
     "output_type": "display_data"
    }
   ],
   "source": [
    "load(\"case2_cens_RR_r500n1000.RData\")\n",
    "load(\"true_pars.RData\")\n",
    "\n",
    "data=case2_cens_RR\n",
    "\n",
    "truth=c(as.vector(true_pars$BETA[[1]]),as.vector(true_pars$BETA[[2]]),as.vector(true_pars$BETA[[3]]))\n",
    "\n",
    "REP=500\n",
    "\n",
    "Zscores=list()\n",
    "\n",
    "for(i in 1:REP){\n",
    "    beta_hat=c(as.vector(data[[i]]$Beta$beta1),as.vector(data[[i]]$Beta$beta2),as.vector(data[[i]]$Beta$beta3))\n",
    "    diff=beta_hat-truth\n",
    "    Zscores[[i]]=diff/diag(data[[i]]$Cov)^0.5\n",
    "}\n",
    "\n",
    "Zscores=do.call(rbind, Zscores)\n",
    "\n",
    "Reject=(abs(Zscores)>1.96)*1\n",
    "\n",
    "Reject_Rates=apply(Reject,2,mean)\n",
    "\n",
    "Reject_Rates\n",
    "\n",
    "mean(Reject_Rates)"
   ]
  },
  {
   "cell_type": "code",
   "execution_count": 3,
   "id": "4aee0846-00bc-41a5-8ce7-2e3566450d64",
   "metadata": {},
   "outputs": [
    {
     "data": {
      "text/html": [
       "<dl>\n",
       "\t<dt>$PIE</dt>\n",
       "\t\t<dd><style>\n",
       ".list-inline {list-style: none; margin:0; padding: 0}\n",
       ".list-inline>li {display: inline-block}\n",
       ".list-inline>li:not(:last-child)::after {content: \"\\00b7\"; padding: 0 .5ex}\n",
       "</style>\n",
       "<ol class=list-inline><li>0.1</li><li>0.7</li><li>0.2</li></ol>\n",
       "</dd>\n",
       "\t<dt>$BETA</dt>\n",
       "\t\t<dd><ol>\n",
       "\t<li><table class=\"dataframe\">\n",
       "<caption>A matrix: 2 × 2 of type dbl</caption>\n",
       "<tbody>\n",
       "\t<tr><td>2</td><td>20</td></tr>\n",
       "\t<tr><td>0</td><td>-2</td></tr>\n",
       "</tbody>\n",
       "</table>\n",
       "</li>\n",
       "\t<li><table class=\"dataframe\">\n",
       "<caption>A matrix: 2 × 2 of type dbl</caption>\n",
       "<tbody>\n",
       "\t<tr><td>3</td><td>25</td></tr>\n",
       "\t<tr><td>1</td><td>-3</td></tr>\n",
       "</tbody>\n",
       "</table>\n",
       "</li>\n",
       "\t<li><table class=\"dataframe\">\n",
       "<caption>A matrix: 2 × 2 of type dbl</caption>\n",
       "<tbody>\n",
       "\t<tr><td>3.5</td><td>30</td></tr>\n",
       "\t<tr><td>2.0</td><td>-5</td></tr>\n",
       "</tbody>\n",
       "</table>\n",
       "</li>\n",
       "</ol>\n",
       "</dd>\n",
       "\t<dt>$SIGMA</dt>\n",
       "\t\t<dd><ol>\n",
       "\t<li><table class=\"dataframe\">\n",
       "<caption>A matrix: 2 × 2 of type dbl</caption>\n",
       "<tbody>\n",
       "\t<tr><td>1.0</td><td>0.1</td></tr>\n",
       "\t<tr><td>0.1</td><td>1.0</td></tr>\n",
       "</tbody>\n",
       "</table>\n",
       "</li>\n",
       "\t<li><table class=\"dataframe\">\n",
       "<caption>A matrix: 2 × 2 of type dbl</caption>\n",
       "<tbody>\n",
       "\t<tr><td>2.0</td><td>0.2</td></tr>\n",
       "\t<tr><td>0.2</td><td>0.5</td></tr>\n",
       "</tbody>\n",
       "</table>\n",
       "</li>\n",
       "\t<li><table class=\"dataframe\">\n",
       "<caption>A matrix: 2 × 2 of type dbl</caption>\n",
       "<tbody>\n",
       "\t<tr><td>0.5</td><td>0.3</td></tr>\n",
       "\t<tr><td>0.3</td><td>2.0</td></tr>\n",
       "</tbody>\n",
       "</table>\n",
       "</li>\n",
       "</ol>\n",
       "</dd>\n",
       "</dl>\n"
      ],
      "text/latex": [
       "\\begin{description}\n",
       "\\item[\\$PIE] \\begin{enumerate*}\n",
       "\\item 0.1\n",
       "\\item 0.7\n",
       "\\item 0.2\n",
       "\\end{enumerate*}\n",
       "\n",
       "\\item[\\$BETA] \\begin{enumerate}\n",
       "\\item A matrix: 2 × 2 of type dbl\n",
       "\\begin{tabular}{ll}\n",
       "\t 2 & 20\\\\\n",
       "\t 0 & -2\\\\\n",
       "\\end{tabular}\n",
       "\n",
       "\\item A matrix: 2 × 2 of type dbl\n",
       "\\begin{tabular}{ll}\n",
       "\t 3 & 25\\\\\n",
       "\t 1 & -3\\\\\n",
       "\\end{tabular}\n",
       "\n",
       "\\item A matrix: 2 × 2 of type dbl\n",
       "\\begin{tabular}{ll}\n",
       "\t 3.5 & 30\\\\\n",
       "\t 2.0 & -5\\\\\n",
       "\\end{tabular}\n",
       "\n",
       "\\end{enumerate}\n",
       "\n",
       "\\item[\\$SIGMA] \\begin{enumerate}\n",
       "\\item A matrix: 2 × 2 of type dbl\n",
       "\\begin{tabular}{ll}\n",
       "\t 1.0 & 0.1\\\\\n",
       "\t 0.1 & 1.0\\\\\n",
       "\\end{tabular}\n",
       "\n",
       "\\item A matrix: 2 × 2 of type dbl\n",
       "\\begin{tabular}{ll}\n",
       "\t 2.0 & 0.2\\\\\n",
       "\t 0.2 & 0.5\\\\\n",
       "\\end{tabular}\n",
       "\n",
       "\\item A matrix: 2 × 2 of type dbl\n",
       "\\begin{tabular}{ll}\n",
       "\t 0.5 & 0.3\\\\\n",
       "\t 0.3 & 2.0\\\\\n",
       "\\end{tabular}\n",
       "\n",
       "\\end{enumerate}\n",
       "\n",
       "\\end{description}\n"
      ],
      "text/markdown": [
       "$PIE\n",
       ":   1. 0.1\n",
       "2. 0.7\n",
       "3. 0.2\n",
       "\n",
       "\n",
       "\n",
       "$BETA\n",
       ":   1. \n",
       "A matrix: 2 × 2 of type dbl\n",
       "\n",
       "| 2 | 20 |\n",
       "| 0 | -2 |\n",
       "\n",
       "\n",
       "2. \n",
       "A matrix: 2 × 2 of type dbl\n",
       "\n",
       "| 3 | 25 |\n",
       "| 1 | -3 |\n",
       "\n",
       "\n",
       "3. \n",
       "A matrix: 2 × 2 of type dbl\n",
       "\n",
       "| 3.5 | 30 |\n",
       "| 2.0 | -5 |\n",
       "\n",
       "\n",
       "\n",
       "\n",
       "\n",
       "$SIGMA\n",
       ":   1. \n",
       "A matrix: 2 × 2 of type dbl\n",
       "\n",
       "| 1.0 | 0.1 |\n",
       "| 0.1 | 1.0 |\n",
       "\n",
       "\n",
       "2. \n",
       "A matrix: 2 × 2 of type dbl\n",
       "\n",
       "| 2.0 | 0.2 |\n",
       "| 0.2 | 0.5 |\n",
       "\n",
       "\n",
       "3. \n",
       "A matrix: 2 × 2 of type dbl\n",
       "\n",
       "| 0.5 | 0.3 |\n",
       "| 0.3 | 2.0 |\n",
       "\n",
       "\n",
       "\n",
       "\n",
       "\n",
       "\n",
       "\n"
      ],
      "text/plain": [
       "$PIE\n",
       "[1] 0.1 0.7 0.2\n",
       "\n",
       "$BETA\n",
       "$BETA[[1]]\n",
       "     [,1] [,2]\n",
       "[1,]    2   20\n",
       "[2,]    0   -2\n",
       "\n",
       "$BETA[[2]]\n",
       "     [,1] [,2]\n",
       "[1,]    3   25\n",
       "[2,]    1   -3\n",
       "\n",
       "$BETA[[3]]\n",
       "     [,1] [,2]\n",
       "[1,]  3.5   30\n",
       "[2,]  2.0   -5\n",
       "\n",
       "\n",
       "$SIGMA\n",
       "$SIGMA[[1]]\n",
       "     [,1] [,2]\n",
       "[1,]  1.0  0.1\n",
       "[2,]  0.1  1.0\n",
       "\n",
       "$SIGMA[[2]]\n",
       "     [,1] [,2]\n",
       "[1,]  2.0  0.2\n",
       "[2,]  0.2  0.5\n",
       "\n",
       "$SIGMA[[3]]\n",
       "     [,1] [,2]\n",
       "[1,]  0.5  0.3\n",
       "[2,]  0.3  2.0\n",
       "\n"
      ]
     },
     "metadata": {},
     "output_type": "display_data"
    }
   ],
   "source": [
    "true_pars"
   ]
  },
  {
   "cell_type": "markdown",
   "id": "842f3189-2d4f-4b3b-a0be-f5034d512bc1",
   "metadata": {},
   "source": [
    "# n=5000"
   ]
  },
  {
   "cell_type": "code",
   "execution_count": 4,
   "id": "2038a878-a9c7-498f-9204-254216663602",
   "metadata": {},
   "outputs": [
    {
     "data": {
      "text/html": [
       "<style>\n",
       ".dl-inline {width: auto; margin:0; padding: 0}\n",
       ".dl-inline>dt, .dl-inline>dd {float: none; width: auto; display: inline-block}\n",
       ".dl-inline>dt::after {content: \":\\0020\"; padding-right: .5ex}\n",
       ".dl-inline>dt:not(:first-of-type) {padding-left: .5ex}\n",
       "</style><dl class=dl-inline><dt>Y1_X0_1</dt><dd>0.04</dd><dt>Y1_X1_1</dt><dd>0.054</dd><dt>Y2_X0_1</dt><dd>0.054</dd><dt>Y2_X1_1</dt><dd>0.03</dd><dt>Y1_X0_2</dt><dd>0.042</dd><dt>Y1_X1_2</dt><dd>0.056</dd><dt>Y2_X0_2</dt><dd>0.042</dd><dt>Y2_X1_2</dt><dd>0.05</dd><dt>Y1_X0_3</dt><dd>0.044</dd><dt>Y1_X1_3</dt><dd>0.054</dd><dt>Y2_X0_3</dt><dd>0.056</dd><dt>Y2_X1_3</dt><dd>0.064</dd></dl>\n"
      ],
      "text/latex": [
       "\\begin{description*}\n",
       "\\item[Y1\\textbackslash{}\\_X0\\textbackslash{}\\_1] 0.04\n",
       "\\item[Y1\\textbackslash{}\\_X1\\textbackslash{}\\_1] 0.054\n",
       "\\item[Y2\\textbackslash{}\\_X0\\textbackslash{}\\_1] 0.054\n",
       "\\item[Y2\\textbackslash{}\\_X1\\textbackslash{}\\_1] 0.03\n",
       "\\item[Y1\\textbackslash{}\\_X0\\textbackslash{}\\_2] 0.042\n",
       "\\item[Y1\\textbackslash{}\\_X1\\textbackslash{}\\_2] 0.056\n",
       "\\item[Y2\\textbackslash{}\\_X0\\textbackslash{}\\_2] 0.042\n",
       "\\item[Y2\\textbackslash{}\\_X1\\textbackslash{}\\_2] 0.05\n",
       "\\item[Y1\\textbackslash{}\\_X0\\textbackslash{}\\_3] 0.044\n",
       "\\item[Y1\\textbackslash{}\\_X1\\textbackslash{}\\_3] 0.054\n",
       "\\item[Y2\\textbackslash{}\\_X0\\textbackslash{}\\_3] 0.056\n",
       "\\item[Y2\\textbackslash{}\\_X1\\textbackslash{}\\_3] 0.064\n",
       "\\end{description*}\n"
      ],
      "text/markdown": [
       "Y1_X0_1\n",
       ":   0.04Y1_X1_1\n",
       ":   0.054Y2_X0_1\n",
       ":   0.054Y2_X1_1\n",
       ":   0.03Y1_X0_2\n",
       ":   0.042Y1_X1_2\n",
       ":   0.056Y2_X0_2\n",
       ":   0.042Y2_X1_2\n",
       ":   0.05Y1_X0_3\n",
       ":   0.044Y1_X1_3\n",
       ":   0.054Y2_X0_3\n",
       ":   0.056Y2_X1_3\n",
       ":   0.064\n",
       "\n"
      ],
      "text/plain": [
       "Y1_X0_1 Y1_X1_1 Y2_X0_1 Y2_X1_1 Y1_X0_2 Y1_X1_2 Y2_X0_2 Y2_X1_2 Y1_X0_3 Y1_X1_3 \n",
       "  0.040   0.054   0.054   0.030   0.042   0.056   0.042   0.050   0.044   0.054 \n",
       "Y2_X0_3 Y2_X1_3 \n",
       "  0.056   0.064 "
      ]
     },
     "metadata": {},
     "output_type": "display_data"
    },
    {
     "data": {
      "text/html": [
       "0.0488333333333333"
      ],
      "text/latex": [
       "0.0488333333333333"
      ],
      "text/markdown": [
       "0.0488333333333333"
      ],
      "text/plain": [
       "[1] 0.04883333"
      ]
     },
     "metadata": {},
     "output_type": "display_data"
    }
   ],
   "source": [
    "\n",
    "\n",
    "load(\"case1_cens_RR_r500n5000.RData\")\n",
    "load(\"true_pars.RData\")\n",
    "\n",
    "data=case1_cens_RR\n",
    "\n",
    "truth=c(as.vector(true_pars$BETA[[1]]),as.vector(true_pars$BETA[[2]]),as.vector(true_pars$BETA[[3]]))\n",
    "\n",
    "REP=500\n",
    "\n",
    "Zscores=list()\n",
    "\n",
    "for(i in 1:REP){\n",
    "    beta_hat=c(as.vector(data[[i]]$Beta$beta1),as.vector(data[[i]]$Beta$beta2),as.vector(data[[i]]$Beta$beta3))\n",
    "    diff=beta_hat-truth\n",
    "    Zscores[[i]]=diff/diag(data[[i]]$Cov)^0.5\n",
    "}\n",
    "\n",
    "Zscores=do.call(rbind, Zscores)\n",
    "\n",
    "Reject=(abs(Zscores)>1.96)*1\n",
    "\n",
    "Reject_Rates=apply(Reject,2,mean)\n",
    "\n",
    "Reject_Rates\n",
    "\n",
    "mean(Reject_Rates)"
   ]
  },
  {
   "cell_type": "code",
   "execution_count": 5,
   "id": "0719c26c-665f-4d33-92fc-b07c0e156ed8",
   "metadata": {},
   "outputs": [
    {
     "data": {
      "text/html": [
       "<style>\n",
       ".dl-inline {width: auto; margin:0; padding: 0}\n",
       ".dl-inline>dt, .dl-inline>dd {float: none; width: auto; display: inline-block}\n",
       ".dl-inline>dt::after {content: \":\\0020\"; padding-right: .5ex}\n",
       ".dl-inline>dt:not(:first-of-type) {padding-left: .5ex}\n",
       "</style><dl class=dl-inline><dt>Y1_X0_1</dt><dd>0.156</dd><dt>Y1_X1_1</dt><dd>0.052</dd><dt>Y2_X0_1</dt><dd>0.058</dd><dt>Y2_X1_1</dt><dd>0.032</dd><dt>Y1_X0_2</dt><dd>0.058</dd><dt>Y1_X1_2</dt><dd>0.056</dd><dt>Y2_X0_2</dt><dd>0.05</dd><dt>Y2_X1_2</dt><dd>0.056</dd><dt>Y1_X0_3</dt><dd>0.048</dd><dt>Y1_X1_3</dt><dd>0.048</dd><dt>Y2_X0_3</dt><dd>0.05</dd><dt>Y2_X1_3</dt><dd>0.062</dd></dl>\n"
      ],
      "text/latex": [
       "\\begin{description*}\n",
       "\\item[Y1\\textbackslash{}\\_X0\\textbackslash{}\\_1] 0.156\n",
       "\\item[Y1\\textbackslash{}\\_X1\\textbackslash{}\\_1] 0.052\n",
       "\\item[Y2\\textbackslash{}\\_X0\\textbackslash{}\\_1] 0.058\n",
       "\\item[Y2\\textbackslash{}\\_X1\\textbackslash{}\\_1] 0.032\n",
       "\\item[Y1\\textbackslash{}\\_X0\\textbackslash{}\\_2] 0.058\n",
       "\\item[Y1\\textbackslash{}\\_X1\\textbackslash{}\\_2] 0.056\n",
       "\\item[Y2\\textbackslash{}\\_X0\\textbackslash{}\\_2] 0.05\n",
       "\\item[Y2\\textbackslash{}\\_X1\\textbackslash{}\\_2] 0.056\n",
       "\\item[Y1\\textbackslash{}\\_X0\\textbackslash{}\\_3] 0.048\n",
       "\\item[Y1\\textbackslash{}\\_X1\\textbackslash{}\\_3] 0.048\n",
       "\\item[Y2\\textbackslash{}\\_X0\\textbackslash{}\\_3] 0.05\n",
       "\\item[Y2\\textbackslash{}\\_X1\\textbackslash{}\\_3] 0.062\n",
       "\\end{description*}\n"
      ],
      "text/markdown": [
       "Y1_X0_1\n",
       ":   0.156Y1_X1_1\n",
       ":   0.052Y2_X0_1\n",
       ":   0.058Y2_X1_1\n",
       ":   0.032Y1_X0_2\n",
       ":   0.058Y1_X1_2\n",
       ":   0.056Y2_X0_2\n",
       ":   0.05Y2_X1_2\n",
       ":   0.056Y1_X0_3\n",
       ":   0.048Y1_X1_3\n",
       ":   0.048Y2_X0_3\n",
       ":   0.05Y2_X1_3\n",
       ":   0.062\n",
       "\n"
      ],
      "text/plain": [
       "Y1_X0_1 Y1_X1_1 Y2_X0_1 Y2_X1_1 Y1_X0_2 Y1_X1_2 Y2_X0_2 Y2_X1_2 Y1_X0_3 Y1_X1_3 \n",
       "  0.156   0.052   0.058   0.032   0.058   0.056   0.050   0.056   0.048   0.048 \n",
       "Y2_X0_3 Y2_X1_3 \n",
       "  0.050   0.062 "
      ]
     },
     "metadata": {},
     "output_type": "display_data"
    },
    {
     "data": {
      "text/html": [
       "0.0605"
      ],
      "text/latex": [
       "0.0605"
      ],
      "text/markdown": [
       "0.0605"
      ],
      "text/plain": [
       "[1] 0.0605"
      ]
     },
     "metadata": {},
     "output_type": "display_data"
    }
   ],
   "source": [
    "load(\"case2_cens_RR_r500n5000.RData\")\n",
    "load(\"true_pars.RData\")\n",
    "\n",
    "data=case2_cens_RR\n",
    "\n",
    "truth=c(as.vector(true_pars$BETA[[1]]),as.vector(true_pars$BETA[[2]]),as.vector(true_pars$BETA[[3]]))\n",
    "\n",
    "REP=500\n",
    "\n",
    "Zscores=list()\n",
    "\n",
    "for(i in 1:REP){\n",
    "    beta_hat=c(as.vector(data[[i]]$Beta$beta1),as.vector(data[[i]]$Beta$beta2),as.vector(data[[i]]$Beta$beta3))\n",
    "    diff=beta_hat-truth\n",
    "    Zscores[[i]]=diff/diag(data[[i]]$Cov)^0.5\n",
    "}\n",
    "\n",
    "Zscores=do.call(rbind, Zscores)\n",
    "\n",
    "Reject=(abs(Zscores)>1.96)*1\n",
    "\n",
    "Reject_Rates=apply(Reject,2,mean)\n",
    "\n",
    "Reject_Rates\n",
    "\n",
    "mean(Reject_Rates)"
   ]
  }
 ],
 "metadata": {
  "kernelspec": {
   "display_name": "R",
   "language": "R",
   "name": "ir"
  },
  "language_info": {
   "codemirror_mode": "r",
   "file_extension": ".r",
   "mimetype": "text/x-r-source",
   "name": "R",
   "pygments_lexer": "r",
   "version": "4.1.1"
  }
 },
 "nbformat": 4,
 "nbformat_minor": 5
}
